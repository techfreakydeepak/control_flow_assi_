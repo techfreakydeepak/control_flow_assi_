{
 "cells": [
  {
   "cell_type": "code",
   "execution_count": 1,
   "id": "e3d35584",
   "metadata": {},
   "outputs": [
    {
     "name": "stdout",
     "output_type": "stream",
     "text": [
      "Enter a number: 12\n",
      "The given number is Positive.\n"
     ]
    }
   ],
   "source": [
    "# Basic if else statement\n",
    "\"Question:-1\"\n",
    "my_input = float(input(\"Enter a number \"))\n",
    "# Check if the number is positive, negative, or zero\n",
    "if my_input > 0:\n",
    "    print(\"The given number is Positive.\")\n",
    "elif my_input < 0:\n",
    "    print(\"The given number is Negative.\")\n",
    "else:\n",
    "    print(\"The given number is Zero.\")\n"
   ]
  },
  {
   "cell_type": "code",
   "execution_count": 2,
   "id": "817e2f95",
   "metadata": {},
   "outputs": [
    {
     "name": "stdout",
     "output_type": "stream",
     "text": [
      "enter the number20\n",
      "You are eligible for the voting\n"
     ]
    }
   ],
   "source": [
    "\"Question:-2\"\n",
    "my_input=float(input(\"enter the number\"))\n",
    "if my_input>=18:\n",
    "    print(\"You are eligible for the voting\")\n",
    "else:\n",
    "    print(\"You are not eligible for the voting\")"
   ]
  },
  {
   "cell_type": "code",
   "execution_count": 5,
   "id": "b461b90e",
   "metadata": {},
   "outputs": [
    {
     "name": "stdout",
     "output_type": "stream",
     "text": [
      "Enter the first number: 20\n",
      "Enter the second number: 25\n",
      "The maximum of 20.0 and 25.0 is: 25.0\n"
     ]
    }
   ],
   "source": [
    "\"Question:-3\"\n",
    "num1 = float(input(\"Enter the first number: \"))\n",
    "num2 = float(input(\"Enter the second number: \"))\n",
    "#  here we Compare the numbers to find the maximum\n",
    "if num1 > num2:\n",
    "    max_num = num1\n",
    "else:\n",
    "    max_num = num2\n",
    "# Display the result\n",
    "print(f\"The maximum of {num1} and {num2} is: {max_num}\")\n"
   ]
  },
  {
   "cell_type": "code",
   "execution_count": 7,
   "id": "adeb4e56",
   "metadata": {},
   "outputs": [
    {
     "name": "stdout",
     "output_type": "stream",
     "text": [
      "Enter a year: 2008\n",
      "2008 is a leap year.\n"
     ]
    }
   ],
   "source": [
    "\"Question:-4\"\n",
    "year = int(input(\"Enter a year: \"))\n",
    "# Check if the year is a leap year\n",
    "if (year % 4 == 0):\n",
    "    print(f\"{year} is a leap year.\")\n",
    "else:\n",
    "    print(f\"{year} is not a leap year.\")\n"
   ]
  },
  {
   "cell_type": "code",
   "execution_count": 1,
   "id": "f933fe0e",
   "metadata": {},
   "outputs": [
    {
     "name": "stdout",
     "output_type": "stream",
     "text": [
      "Enter a character: f\n",
      "The character \"f\" is a consonant.\n"
     ]
    }
   ],
   "source": [
    "\"Question:-5\"\n",
    "def check_vowel_consonant(char):\n",
    "    char = char.lower()\n",
    "    if char == 'a':\n",
    "        print(f'The character \"{char}\" is a vowel.')\n",
    "    elif char == 'e':\n",
    "        print(f'The character \"{char}\" is a vowel.')\n",
    "    elif char == 'i':\n",
    "        print(f'The character \"{char}\" is a vowel.')\n",
    "    elif char == 'o':\n",
    "        print(f'The character \"{char}\" is a vowel.')\n",
    "    elif char == 'u':\n",
    "        print(f'The character \"{char}\" is a vowel.')\n",
    "    else:\n",
    "        print(f'The character \"{char}\" is a consonant.')\n",
    "# Get user input for a characte\n",
    "user_input = input('Enter a character: ')\n",
    "# Check and display the result\n",
    "check_vowel_consonant(user_input)\n",
    "\n"
   ]
  },
  {
   "cell_type": "code",
   "execution_count": 6,
   "id": "704cbc84",
   "metadata": {},
   "outputs": [
    {
     "name": "stdout",
     "output_type": "stream",
     "text": [
      "Enter a number: 20\n",
      "The number is even.\n"
     ]
    }
   ],
   "source": [
    "\"Queston:-6\"\n",
    "def check_number_odd_even(number):\n",
    "    # Convert the input to an integer\n",
    "    number = int(number)\n",
    "\n",
    "    if number % 2 == 0:\n",
    "        print(\"The number is even.\")\n",
    "    else:\n",
    "        print(\"The number is odd.\")\n",
    "# Get user input for a number\n",
    "user_input = input(\"Enter a number: \")\n",
    "# Check and display the result\n",
    "check_number_odd_even(user_input)\n"
   ]
  },
  {
   "cell_type": "code",
   "execution_count": 7,
   "id": "2372524c",
   "metadata": {},
   "outputs": [
    {
     "name": "stdout",
     "output_type": "stream",
     "text": [
      "Enter a number: 25\n",
      "The absolute value of 25.0 is 25.0.\n"
     ]
    }
   ],
   "source": [
    "\"Question:-7\"\n",
    "def absolute_value(number):\n",
    "    if number < 0:\n",
    "        return -number\n",
    "    else:\n",
    "        return number\n",
    "# Test the function\n",
    "num = float(input(\"Enter a number: \"))\n",
    "result = absolute_value(num)\n",
    "print(f\"The absolute value of {num} is {result}.\")\n"
   ]
  },
  {
   "cell_type": "code",
   "execution_count": 11,
   "id": "a808cc33",
   "metadata": {},
   "outputs": [
    {
     "name": "stdout",
     "output_type": "stream",
     "text": [
      "Enter the first number: 25\n",
      "Enter the second number: 50\n",
      "Enter the third number: 20\n",
      "The largest number among 25.0, 50.0, and 20.0 is: 50.0\n"
     ]
    }
   ],
   "source": [
    "\"Question:-8\"\n",
    "num1 = float(input(\"Enter the first number: \"))\n",
    "num2 = float(input(\"Enter the second number: \"))\n",
    "num3 = float(input(\"Enter the third number: \"))\n",
    "\n",
    "# Determine the largest number using if-else statements\n",
    "if num1 >= num2 and num1 >= num3:\n",
    "    largest_number = num1\n",
    "elif num2 >= num1 and num2 >= num3:\n",
    "    largest_number = num2\n",
    "else:\n",
    "    largest_number = num3\n",
    "# Display the result\n",
    "print(f\"The largest number among {num1}, {num2}, and {num3} is: {largest_number}\")\n"
   ]
  },
  {
   "cell_type": "code",
   "execution_count": null,
   "id": "486e0b81",
   "metadata": {},
   "outputs": [],
   "source": [
    "\"Question:-9\"\n",
    "my_input = input(\"Enter the string: \")\n",
    "if is_palindrome(my_input):\n",
    "    print(f'The string \"{my_input}\" is a palindrome.')\n",
    "else:\n",
    "    print(f'The string \"{my_input}\" is not a palindrome.')\n"
   ]
  },
  {
   "cell_type": "code",
   "execution_count": null,
   "id": "54669bd3",
   "metadata": {},
   "outputs": [],
   "source": [
    "\"Question:-10\"\n",
    "def calculate_grade(score):\n",
    "    if 90 <= score <= 100:\n",
    "        return 'A'\n",
    "    elif 80 <= score < 90:\n",
    "        return 'B'\n",
    "    elif 70 <= score < 80:\n",
    "        return 'C'\n",
    "    elif 60 <= score < 70:\n",
    "        return 'D'\n",
    "    elif 0 <= score < 60:\n",
    "        return 'F'\n",
    "    else:\n",
    "        return 'Invalid score. Please enter a score between 0 and 100.'\n",
    "# Get user input for the student's score\n",
    "try:\n",
    "    score = float(input('Enter the student\\'s score: '))\n",
    "    # Check and display the result\n",
    "    grade = calculate_grade(score)\n",
    "    print(f'The student\\'s grade is: {grade}')\n",
    "except ValueError:\n",
    "    print('Invalid input. Please enter a numeric score.')\n"
   ]
  },
  {
   "cell_type": "code",
   "execution_count": null,
   "id": "f1967f80",
   "metadata": {},
   "outputs": [],
   "source": [
    "\"Question:-11\"\n",
    "num1 = float(input(\"Enter the first number: \"))\n",
    "num2 = float(input(\"Enter the second number: \"))\n",
    "num3 = float(input(\"Enter the third number: \"))\n",
    "if num1 >= num2 and num1 >= num3:\n",
    "    largest_number = num1\n",
    "elif num2 >= num1 and num2 >= num3:\n",
    "    largest_number = num2\n",
    "else:\n",
    "    largest_number = num3\n",
    "    \n",
    "print(f\"The largest number among {num1}, {num2}, and {num3} is: {largest_number}\")\n",
    "\n"
   ]
  },
  {
   "cell_type": "code",
   "execution_count": null,
   "id": "4f8e72be",
   "metadata": {},
   "outputs": [],
   "source": [
    "\"Question:-12\"\n",
    "# Get user input for the lengths of three sides of the triangle\n",
    "try:\n",
    "    side1 = float(input(\"Enter the length of the first side: \"))\n",
    "    side2 = float(input(\"Enter the length of the second side: \"))\n",
    "    side3 = float(input(\"Enter the length of the third side: \"))\n",
    "\n",
    "    # Check and display the result using nested if-else statements\n",
    "    if side1 == side2 == side3:\n",
    "        triangle_type = \"Equilateral Triangle\"\n",
    "    else:\n",
    "        if side1 == side2 or side1 == side3 or side2 == side3:\n",
    "            triangle_type = \"Isosceles Triangle\"\n",
    "        else:\n",
    "            triangle_type = \"Scalene Triangle\"\n",
    "\n",
    "    print(f\"The triangle is a {triangle_type}.\")\n",
    "except ValueError:\n",
    "    print(\"Invalid input. Please enter numeric values for the side lengths.\")\n"
   ]
  },
  {
   "cell_type": "code",
   "execution_count": 4,
   "id": "3b81655a",
   "metadata": {},
   "outputs": [
    {
     "name": "stdout",
     "output_type": "stream",
     "text": [
      "enter the year1999\n",
      "Print this not a leap year\n"
     ]
    }
   ],
   "source": [
    "\"Question:-13\"\n",
    "my_input=float(input(\"enter the year\"))\n",
    "if my_input%4==0:\n",
    "    print(\"Print this is a leap year\")\n",
    "else:\n",
    "    print(\"Print this not a leap year\")"
   ]
  },
  {
   "cell_type": "code",
   "execution_count": 6,
   "id": "a81b54cb",
   "metadata": {},
   "outputs": [
    {
     "name": "stdout",
     "output_type": "stream",
     "text": [
      "Enter the number: 5\n",
      "The number is positive.\n"
     ]
    }
   ],
   "source": [
    "\"Question:-14\"\n",
    "my_input =float(input(\"Enter the number: \"))\n",
    "if my_input > 0:\n",
    "    print(\"The number is positive.\")\n",
    "elif my_input < 0:\n",
    "    print(\"The number is negative.\")\n",
    "else:\n",
    "    print(\"The number is zero.\")\n"
   ]
  },
  {
   "cell_type": "code",
   "execution_count": 8,
   "id": "f5a4698b",
   "metadata": {},
   "outputs": [
    {
     "name": "stdout",
     "output_type": "stream",
     "text": [
      "enter the number:18\n",
      "person is teenager\n"
     ]
    }
   ],
   "source": [
    "\"Question:-15\"\n",
    "my_input=float(input(\"enter the number:\"))\n",
    "if 13 <= my_input <= 19:\n",
    "    print(\"person is teenager\")\n",
    "else:\n",
    "    print(\"person is not teenager\")"
   ]
  },
  {
   "cell_type": "code",
   "execution_count": 12,
   "id": "d0c9ee22",
   "metadata": {},
   "outputs": [
    {
     "name": "stdout",
     "output_type": "stream",
     "text": [
      "Enter the number:66\n",
      "The angle is obtuse angle\n"
     ]
    }
   ],
   "source": [
    "\"Question:-16\"\n",
    "my_input=float(input(\"Enter the number:\"))\n",
    "if my_input<0:\n",
    "    print(\"the angle is acute\")\n",
    "elif my_input>0:\n",
    "    print(\"The angle is obtuse angle\")\n",
    "else:\n",
    "    print(\"The angle is right angle\")"
   ]
  },
  {
   "cell_type": "code",
   "execution_count": 13,
   "id": "89712278",
   "metadata": {},
   "outputs": [
    {
     "name": "stdout",
     "output_type": "stream",
     "text": [
      "Enter the coefficient a: 2\n",
      "Enter the coefficient b: 5\n",
      "Enter the coefficient c: 6\n",
      "Root 1: (-1.25+1.1989578808281798j)\n",
      "Root 2: (-1.25-1.1989578808281798j)\n"
     ]
    }
   ],
   "source": [
    "\"Question:-17\"\n",
    "# Get coefficients from the user\n",
    "a = float(input(\"Enter the coefficient a: \"))\n",
    "b = float(input(\"Enter the coefficient b: \"))\n",
    "c = float(input(\"Enter the coefficient c: \"))\n",
    "\n",
    "# Calculate the discriminant\n",
    "discriminant = b**2 - 4*a*c\n",
    "\n",
    "# Check if the discriminant is non-negative\n",
    "if discriminant >= 0:\n",
    "    # Calculate the two roots\n",
    "    root1 = (-b + (discriminant ** 0.5)) / (2*a)\n",
    "    root2 = (-b - (discriminant ** 0.5)) / (2*a)\n",
    "    print(\"Root 1:\", root1)\n",
    "    print(\"Root 2:\", root2)\n",
    "else:\n",
    "    # If discriminant is negative, roots are complex numbers\n",
    "    real_part = -b / (2*a)\n",
    "    imaginary_part = (abs(discriminant) ** 0.5) / (2*a)\n",
    "    root1 = complex(real_part, imaginary_part)\n",
    "    root2 = complex(real_part, -imaginary_part)\n",
    "    print(\"Root 1:\", root1)\n",
    "    print(\"Root 2:\", root2)\n"
   ]
  },
  {
   "cell_type": "code",
   "execution_count": 14,
   "id": "2ab3e30c",
   "metadata": {},
   "outputs": [
    {
     "name": "stdout",
     "output_type": "stream",
     "text": [
      "Enter a number (1-7) to represent the day of the week: 5\n",
      "The day corresponding to 5 is Friday.\n"
     ]
    }
   ],
   "source": [
    "\"question:-18\"\n",
    "# Get user input for the day number\n",
    "day_number = int(input(\"Enter a number (1-7) to represent the day of the week: \"))\n",
    "if 1 <= day_number <= 7:\n",
    "    # Determine the day of the week based on the input\n",
    "    if day_number == 1:\n",
    "        day_of_week = \"Monday\"\n",
    "    elif day_number == 2:\n",
    "        day_of_week = \"Tuesday\"\n",
    "    elif day_number == 3:\n",
    "        day_of_week = \"Wednesday\"\n",
    "    elif day_number == 4:\n",
    "        day_of_week = \"Thursday\"\n",
    "    elif day_number == 5:\n",
    "        day_of_week = \"Friday\"\n",
    "    elif day_number == 6:\n",
    "        day_of_week = \"Saturday\"\n",
    "    else:\n",
    "        day_of_week = \"Sunday\"\n",
    "\n",
    "    print(f\"The day corresponding to {day_number} is {day_of_week}.\")\n",
    "else:\n",
    "    print(\"Invalid input. Please enter a number between 1 and 7.\")\n"
   ]
  },
  {
   "cell_type": "code",
   "execution_count": 15,
   "id": "d74832b0",
   "metadata": {},
   "outputs": [
    {
     "name": "stdout",
     "output_type": "stream",
     "text": [
      "Enter a year: 2004\n",
      "2004 is a leap year.\n"
     ]
    }
   ],
   "source": [
    "\"Question:-19\"\n",
    "year = int(input(\"Enter a year: \"))\n",
    "if year % 4 == 0:\n",
    "    if year % 100 == 0:\n",
    "        if year % 400 == 0:\n",
    "            print(f\"{year} is a leap year and divisible by 400.\")\n",
    "        else:\n",
    "            print(f\"{year} is not a leap year.\")\n",
    "    else:\n",
    "        print(f\"{year} is a leap year.\")\n",
    "else:\n",
    "    print(f\"{year} is not a leap year.\")\n"
   ]
  },
  {
   "cell_type": "code",
   "execution_count": 17,
   "id": "93cd2f90",
   "metadata": {},
   "outputs": [
    {
     "name": "stdout",
     "output_type": "stream",
     "text": [
      "Enter a number: 45\n",
      "45 is not a prime number.\n"
     ]
    }
   ],
   "source": [
    "\"Question:-20\"\n",
    "num = int(input(\"Enter a number: \"))\n",
    "if num > 1:\n",
    "    # Check for factors\n",
    "    for i in range(2, int(num**0.5) + 1):\n",
    "        if (num % i) == 0:\n",
    "            print(f\"{num} is not a prime number.\")\n",
    "            break\n",
    "    else:\n",
    "        print(f\"{num} is a prime number.\")\n",
    "else:\n",
    "    print(f\"{num} is not a prime number.\")\n"
   ]
  },
  {
   "cell_type": "code",
   "execution_count": null,
   "id": "029ab33b",
   "metadata": {},
   "outputs": [],
   "source": [
    "#### elif"
   ]
  },
  {
   "cell_type": "code",
   "execution_count": 18,
   "id": "7d61cb21",
   "metadata": {},
   "outputs": [
    {
     "name": "stdout",
     "output_type": "stream",
     "text": [
      "enter the the number78\n",
      "The marks in grade B\n"
     ]
    }
   ],
   "source": [
    "\"Question:-21\"\n",
    "num=int(input(\"enter the the number\"))\n",
    "if num>70:\n",
    "    print(\"The marks in grade B\")\n",
    "elif num>80:\n",
    "    print(\"the marks in the grade A2\")\n",
    "elif num>90:\n",
    "    print(\"The marks in the grade A1\")\n",
    "else:\n",
    "    print(\"The marks in the Grade o\")"
   ]
  },
  {
   "cell_type": "code",
   "execution_count": 19,
   "id": "444ae140",
   "metadata": {},
   "outputs": [
    {
     "name": "stdout",
     "output_type": "stream",
     "text": [
      "Enter the first angle of the triangle: 60\n",
      "Enter the second angle of the triangle: 52\n",
      "Enter the third angle of the triangle: 60\n",
      "Invalid triangle. The sum of angles should be 180 degrees.\n"
     ]
    }
   ],
   "source": [
    "\"Question:-22\"\n",
    "angle1 = float(input(\"Enter the first angle of the triangle: \"))\n",
    "angle2 = float(input(\"Enter the second angle of the triangle: \"))\n",
    "angle3 = float(input(\"Enter the third angle of the triangle: \"))\n",
    "if angle1 + angle2 + angle3 == 180:\n",
    "    # Check the types of triangles based on angles\n",
    "    if angle1 == angle2 == angle3:\n",
    "        print(\"It's an equilateral triangle.\")\n",
    "    elif angle1 == angle2 or angle2 == angle3 or angle1 == angle3:\n",
    "        print(\"It's an isosceles triangle.\")\n",
    "    else:\n",
    "        print(\"It's a scalene triangle.\")\n",
    "else:\n",
    "    print(\"Invalid triangle. The sum of angles should be 180 degrees.\")\n"
   ]
  },
  {
   "cell_type": "code",
   "execution_count": 20,
   "id": "0c26a99e",
   "metadata": {},
   "outputs": [
    {
     "name": "stdout",
     "output_type": "stream",
     "text": [
      "Enter your weight in kilograms: 70\n",
      "Enter your height in meters: 1.8288\n",
      "Your BMI is 20.93, and you are categorized as Normal.\n"
     ]
    }
   ],
   "source": [
    "\"Question:-23\"\n",
    "weight = float(input(\"Enter your weight in kilograms: \"))\n",
    "height = float(input(\"Enter your height in meters: \")) \n",
    "bmi = weight / (height ** 2)\n",
    "# Categorize BMI\n",
    "if bmi < 18.5:\n",
    "    category = \"Underweight\"\n",
    "elif 18.5 <= bmi < 25:\n",
    "    category = \"Normal\"\n",
    "elif 25 <= bmi < 30:\n",
    "    category = \"Overweight\"\n",
    "else:\n",
    "    category = \"Obese\"\n",
    "\n",
    "# Print the result\n",
    "print(f\"Your BMI is {bmi:.2f}, and you are categorized as {category}.\")\n",
    "\n",
    "    "
   ]
  },
  {
   "cell_type": "code",
   "execution_count": 21,
   "id": "2d93be40",
   "metadata": {},
   "outputs": [
    {
     "name": "stdout",
     "output_type": "stream",
     "text": [
      "Enter a number: 50\n",
      "The number is positive.\n"
     ]
    }
   ],
   "source": [
    "\"Question:-24\"\n",
    "number = float(input(\"Enter a number: \"))\n",
    "if number > 0:\n",
    "    print(\"The number is positive.\")\n",
    "elif number < 0:\n",
    "    print(\"The number is negative.\")\n",
    "else:\n",
    "    print(\"The number is zero.\")\n"
   ]
  },
  {
   "cell_type": "code",
   "execution_count": 22,
   "id": "578c67d9",
   "metadata": {},
   "outputs": [
    {
     "name": "stdout",
     "output_type": "stream",
     "text": [
      "Enter a character: DEEPAK\n",
      "The character is uppercase.\n"
     ]
    }
   ],
   "source": [
    "\"Question:-25\"\n",
    "character = input(\"Enter a character: \")\n",
    "if character.isalpha():\n",
    "    if character.isupper():\n",
    "        print(\"The character is uppercase.\")\n",
    "    elif character.islower():\n",
    "        print(\"The character is lowercase.\")\n",
    "else:\n",
    "    print(\"The character is special.\")\n"
   ]
  },
  {
   "cell_type": "code",
   "execution_count": 23,
   "id": "46375831",
   "metadata": {},
   "outputs": [
    {
     "name": "stdout",
     "output_type": "stream",
     "text": [
      "Enter the purchase amount: 45000\n",
      "Original Price: $45000.00\n",
      "Discount Category: 15%\n",
      "Discounted Price: $38250.00 (-15.00%)\n"
     ]
    }
   ],
   "source": [
    "\"Question:-26\"\n",
    "purchase_amount = float(input(\"Enter the purchase amount: \"))\n",
    "discount_rate_1 = 0.05  # 5% discount for purchases between $100 and $199.99\n",
    "discount_rate_2 = 0.1   # 10% discount for purchases between $200 and $499.99\n",
    "discount_rate_3 = 0.15  # 15% discount for purchases of $500 or more\n",
    "if 100 <= purchase_amount < 200:\n",
    "    discounted_price = purchase_amount * (1 - discount_rate_1)\n",
    "    discount_percent = discount_rate_1 * 100\n",
    "    discount_category = \"5%\"\n",
    "elif 200 <= purchase_amount < 500:\n",
    "    discounted_price = purchase_amount * (1 - discount_rate_2)\n",
    "    discount_percent = discount_rate_2 * 100\n",
    "    discount_category = \"10%\"\n",
    "elif purchase_amount >= 500:\n",
    "    discounted_price = purchase_amount * (1 - discount_rate_3)\n",
    "    discount_percent = discount_rate_3 * 100\n",
    "    discount_category = \"15%\"\n",
    "else:\n",
    "    discounted_price = purchase_amount\n",
    "    discount_percent = 0\n",
    "    discount_category = \"0%\"\n",
    "# Print the result\n",
    "print(f\"Original Price: ${purchase_amount:.2f}\")\n",
    "print(f\"Discount Category: {discount_category}\")\n",
    "print(f\"Discounted Price: ${discounted_price:.2f} (-{discount_percent:.2f}%)\")\n"
   ]
  },
  {
   "cell_type": "code",
   "execution_count": 24,
   "id": "d400a685",
   "metadata": {},
   "outputs": [
    {
     "name": "stdout",
     "output_type": "stream",
     "text": [
      "Enter the electricity consumption in kilowatt-hours: 45\n",
      "Electricity Consumption: 45.0 kWh\n",
      "Total Bill: $67.50\n"
     ]
    }
   ],
   "source": [
    "\"Question:-27\"\n",
    "consumption = float(input(\"Enter the electricity consumption in kilowatt-hours: \"))\n",
    "\n",
    "# Define electricity rate slabs and corresponding rates\n",
    "rate_slab_1 = 1.50  # $1.50 per kWh for the first 100 kWh\n",
    "rate_slab_2 = 2.00  # $2.00 per kWh for the next 200 kWh\n",
    "rate_slab_3 = 2.50  # $2.50 per kWh for consumption exceeding 300 kWh\n",
    "\n",
    "# Calculate the electricity bill based on consumption slabs\n",
    "if consumption <= 100:\n",
    "    total_bill = consumption * rate_slab_1\n",
    "elif consumption <= 300:\n",
    "    total_bill = 100 * rate_slab_1 + (consumption - 100) * rate_slab_2\n",
    "else:\n",
    "    total_bill = 100 * rate_slab_1 + 200 * rate_slab_2 + (consumption - 300) * rate_slab_3\n",
    "\n",
    "# Print the result\n",
    "print(f\"Electricity Consumption: {consumption} kWh\")\n",
    "print(f\"Total Bill: ${total_bill:.2f}\")\n"
   ]
  },
  {
   "cell_type": "code",
   "execution_count": 25,
   "id": "0c7348a3",
   "metadata": {},
   "outputs": [
    {
     "name": "stdout",
     "output_type": "stream",
     "text": [
      "Enter the first angle of the quadrilateral: 90\n",
      "Enter the second angle of the quadrilateral: 45\n",
      "Enter the third angle of the quadrilateral: 90\n",
      "Enter the fourth angle of the quadrilateral: 60\n",
      "Enter the length of the first side of the quadrilateral: 45\n",
      "Enter the length of the second side of the quadrilateral: 25\n",
      "Enter the length of the third side of the quadrilateral: 5\n",
      "Enter the length of the fourth side of the quadrilateral: 6\n",
      "It's a general quadrilateral.\n"
     ]
    }
   ],
   "source": [
    "\"Question:-28\"\n",
    "# Get user input for angles and sides of the quadrilateral\n",
    "angle1 = float(input(\"Enter the first angle of the quadrilateral: \"))\n",
    "angle2 = float(input(\"Enter the second angle of the quadrilateral: \"))\n",
    "angle3 = float(input(\"Enter the third angle of the quadrilateral: \"))\n",
    "angle4 = float(input(\"Enter the fourth angle of the quadrilateral: \"))\n",
    "\n",
    "side1 = float(input(\"Enter the length of the first side of the quadrilateral: \"))\n",
    "side2 = float(input(\"Enter the length of the second side of the quadrilateral: \"))\n",
    "side3 = float(input(\"Enter the length of the third side of the quadrilateral: \"))\n",
    "side4 = float(input(\"Enter the length of the fourth side of the quadrilateral: \"))\n",
    "\n",
    "# Check the type of quadrilateral based on angles and sides\n",
    "if angle1 == angle2 == angle3 == angle4 == 90:\n",
    "    print(\"It's a rectangle.\")\n",
    "elif angle1 == angle2 == angle3 == angle4 == 360:\n",
    "    print(\"It's a square.\")\n",
    "elif side1 == side2 == side3 == side4:\n",
    "    print(\"It's a rhombus.\")\n",
    "elif side1 == side2 and side3 == side4:\n",
    "    print(\"It's a parallelogram.\")\n",
    "else:\n",
    "    print(\"It's a general quadrilateral.\")\n"
   ]
  },
  {
   "cell_type": "code",
   "execution_count": null,
   "id": "7f89e71c",
   "metadata": {},
   "outputs": [],
   "source": [
    "\"Question:-29\"\n",
    "# Get user input for the month\n",
    "month = input(\"Enter the month (e.g., January, February, etc.): \").lower()\n",
    "\n",
    "# Check the season based on the month\n",
    "if month in ['december', 'january', 'february']:\n",
    "    season = 'Winter'\n",
    "elif month in ['march', 'april', 'may']:\n",
    "    season = 'Spring'\n",
    "elif month in ['june', 'july', 'august']:\n",
    "    season = 'Summer'\n",
    "elif month in ['september', 'october', 'november']:\n",
    "    season = 'Fall'\n",
    "else:\n",
    "    season = 'Invalid month'\n",
    "\n",
    "# Print the result\n",
    "if season != 'Invalid month':\n",
    "    print(f\"The season for {month.capitalize()} is {season}.\")\n",
    "else:\n",
    "    print(\"Invalid month. Please enter a valid month.\")\n"
   ]
  },
  {
   "cell_type": "code",
   "execution_count": 26,
   "id": "3f84f349",
   "metadata": {},
   "outputs": [
    {
     "name": "stdout",
     "output_type": "stream",
     "text": [
      "Enter the year: 2000\n",
      "Enter the month (1-12): 5\n",
      "2000 is a Leap Year.\n",
      "The month has 31 days.\n"
     ]
    }
   ],
   "source": [
    "\"Question:-30\"\n",
    "year = int(input(\"Enter the year: \"))\n",
    "if (year % 4 == 0 and year % 100 != 0) or (year % 400 == 0):\n",
    "    year_type = 'Leap Year'\n",
    "else:\n",
    "    year_type = 'Common Year'\n",
    "month = int(input(\"Enter the month (1-12): \"))\n",
    "if month in [1, 3, 5, 7, 8, 10, 12]:\n",
    "    days_in_month = 31\n",
    "elif month in [4, 6, 9, 11]:\n",
    "    days_in_month = 30\n",
    "elif month == 2:\n",
    "    days_in_month = 29 if year_type == 'Leap Year' else 28\n",
    "else:\n",
    "    print(\"Invalid month. Please enter a number between 1 and 12.\")\n",
    "    exit()\n",
    "# Print the result\n",
    "print(f\"{year} is a {year_type}.\")\n",
    "print(f\"The month has {days_in_month} days.\")\n"
   ]
  },
  {
   "cell_type": "code",
   "execution_count": 27,
   "id": "ed4c3136",
   "metadata": {},
   "outputs": [
    {
     "name": "stdout",
     "output_type": "stream",
     "text": [
      "Enter a number: 56\n",
      "The number is positive.\n"
     ]
    }
   ],
   "source": [
    "## basic level\n",
    "\"Question:-1\"\n",
    "number = float(input(\"Enter a number: \"))\n",
    "if number > 0:\n",
    "    print(\"The number is positive.\")\n",
    "elif number < 0:\n",
    "    print(\"The number is negative.\")\n",
    "else:\n",
    "    print(\"The number is zero.\")\n"
   ]
  },
  {
   "cell_type": "code",
   "execution_count": 28,
   "id": "93a746ae",
   "metadata": {},
   "outputs": [
    {
     "name": "stdout",
     "output_type": "stream",
     "text": [
      "Enter your age: 45\n",
      "You are eligible to vote.\n"
     ]
    }
   ],
   "source": [
    "\"Question:-2\"\n",
    "age = int(input(\"Enter your age: \"))\n",
    "if age >= 18:\n",
    "    print(\"You are eligible to vote.\")\n",
    "else:\n",
    "    print(\"You are not eligible to vote yet.\")\n"
   ]
  },
  {
   "cell_type": "code",
   "execution_count": 29,
   "id": "b4626bdf",
   "metadata": {},
   "outputs": [
    {
     "name": "stdout",
     "output_type": "stream",
     "text": [
      "Enter the first number: 12\n",
      "Enter the second number: 52\n",
      "The maximum of 12.0 and 52.0 is: 52.0\n"
     ]
    }
   ],
   "source": [
    "\"Question:-3\"\n",
    "number1 = float(input(\"Enter the first number: \"))\n",
    "number2 = float(input(\"Enter the second number: \"))\n",
    "if number1 > number2:\n",
    "    max_number = number1\n",
    "else:\n",
    "    max_number = number2\n",
    "print(f\"The maximum of {number1} and {number2} is: {max_number}\")\n"
   ]
  },
  {
   "cell_type": "code",
   "execution_count": 31,
   "id": "40f28e94",
   "metadata": {},
   "outputs": [
    {
     "name": "stdout",
     "output_type": "stream",
     "text": [
      "enter the the number90\n",
      "The marks in the Grade o\n"
     ]
    }
   ],
   "source": [
    "\"Question:-4\"\n",
    "num=int(input(\"enter the the number\"))\n",
    "if num<70:\n",
    "    print(\"The marks in grade B\")\n",
    "elif num<80:\n",
    "    print(\"the marks in the grade A2\")\n",
    "elif num<90:\n",
    "    print(\"The marks in the grade A1\")\n",
    "else:\n",
    "    print(\"The marks in the Grade o\")"
   ]
  },
  {
   "cell_type": "code",
   "execution_count": 32,
   "id": "7fc76fad",
   "metadata": {},
   "outputs": [
    {
     "name": "stdout",
     "output_type": "stream",
     "text": [
      "enter the year2004\n",
      "Print this is a leap year\n"
     ]
    }
   ],
   "source": [
    "\"Question:-5\"\n",
    "my_input=float(input(\"enter the year\"))\n",
    "if my_input%4==0:\n",
    "    print(\"Print this is a leap year\")\n",
    "else:\n",
    "    print(\"Print this not a leap year\")"
   ]
  },
  {
   "cell_type": "code",
   "execution_count": 33,
   "id": "13f72c56",
   "metadata": {},
   "outputs": [
    {
     "name": "stdout",
     "output_type": "stream",
     "text": [
      "Enter the first angle of the triangle: 60\n",
      "Enter the second angle of the triangle: 60\n",
      "Enter the third angle of the triangle: 60\n",
      "It's an equilateral triangle.\n"
     ]
    }
   ],
   "source": [
    "\"Question:-6\"\n",
    "angle1 = float(input(\"Enter the first angle of the triangle: \"))\n",
    "angle2 = float(input(\"Enter the second angle of the triangle: \"))\n",
    "angle3 = float(input(\"Enter the third angle of the triangle: \"))\n",
    "if angle1 + angle2 + angle3 == 180:\n",
    "    # Check the types of triangles based on angles\n",
    "    if angle1 == angle2 == angle3:\n",
    "        print(\"It's an equilateral triangle.\")\n",
    "    elif angle1 == angle2 or angle2 == angle3 or angle1 == angle3:\n",
    "        print(\"It's an isosceles triangle.\")\n",
    "    else:\n",
    "        print(\"It's a scalene triangle.\")\n",
    "else:\n",
    "    print(\"Invalid triangle. The sum of angles should be 180 degrees.\")"
   ]
  },
  {
   "cell_type": "code",
   "execution_count": 35,
   "id": "32bc08d2",
   "metadata": {},
   "outputs": [
    {
     "name": "stdout",
     "output_type": "stream",
     "text": [
      "Enter the first number: 52\n",
      "Enter the second number: 25\n",
      "Enter the third number: 65\n",
      "The largest of 52.0, 25.0, and 65.0 is: 65.0\n"
     ]
    }
   ],
   "source": [
    "\"Question:-7\"\n",
    "number1 = float(input(\"Enter the first number: \"))\n",
    "number2 = float(input(\"Enter the second number: \"))\n",
    "number3 = float(input(\"Enter the third number: \"))\n",
    "if number1 >= number2 and number1 >= number3:\n",
    "    largest_number = number1\n",
    "elif number2 >= number1 and number2 >= number3:\n",
    "    largest_number = number2\n",
    "else:\n",
    "    largest_number = number3\n",
    "print(f\"The largest of {number1}, {number2}, and {number3} is: {largest_number}\")\n"
   ]
  },
  {
   "cell_type": "code",
   "execution_count": 36,
   "id": "88c1d36a",
   "metadata": {},
   "outputs": [
    {
     "name": "stdout",
     "output_type": "stream",
     "text": [
      "Enter a character: e\n",
      "e is a vowel.\n"
     ]
    }
   ],
   "source": [
    "\"Question:-8\"\n",
    "char = input(\"Enter a character: \")\n",
    "char_lower = char.lower()\n",
    "if char_lower in ['a', 'e', 'i', 'o', 'u']:\n",
    "    print(f\"{char} is a vowel.\")\n",
    "elif 'a' <= char_lower <= 'z':\n",
    "    print(f\"{char} is a consonant.\")\n",
    "else:\n",
    "    print(f\"{char} is not a valid alphabet character.\")\n"
   ]
  },
  {
   "cell_type": "code",
   "execution_count": 37,
   "id": "b09427da",
   "metadata": {},
   "outputs": [
    {
     "name": "stdout",
     "output_type": "stream",
     "text": [
      "Enter the purchase amount: 5000000\n",
      "Original Price: $5000000.00\n",
      "Discount Category: 15%\n",
      "Discounted Price: $4250000.00 (-15.00%)\n"
     ]
    }
   ],
   "source": [
    "\"Question:-9\"\n",
    "purchase_amount = float(input(\"Enter the purchase amount: \"))\n",
    "discount_rate_1 = 0.05  # 5% discount for purchases between $100 and $199.99\n",
    "discount_rate_2 = 0.1   # 10% discount for purchases between $200 and $499.99\n",
    "discount_rate_3 = 0.15  # 15% discount for purchases of $500 or more\n",
    "if 100 <= purchase_amount < 200:\n",
    "    discounted_price = purchase_amount * (1 - discount_rate_1)\n",
    "    discount_percent = discount_rate_1 * 100\n",
    "    discount_category = \"5%\"\n",
    "elif 200 <= purchase_amount < 500:\n",
    "    discounted_price = purchase_amount * (1 - discount_rate_2)\n",
    "    discount_percent = discount_rate_2 * 100\n",
    "    discount_category = \"10%\"\n",
    "elif purchase_amount >= 500:\n",
    "    discounted_price = purchase_amount * (1 - discount_rate_3)\n",
    "    discount_percent = discount_rate_3 * 100\n",
    "    discount_category = \"15%\"\n",
    "else:\n",
    "    discounted_price = purchase_amount\n",
    "    discount_percent = 0\n",
    "    discount_category = \"0%\"\n",
    "# Print the result\n",
    "print(f\"Original Price: ${purchase_amount:.2f}\")\n",
    "print(f\"Discount Category: {discount_category}\")\n",
    "print(f\"Discounted Price: ${discounted_price:.2f} (-{discount_percent:.2f}%)\")\n"
   ]
  },
  {
   "cell_type": "code",
   "execution_count": 38,
   "id": "cbe6c1d0",
   "metadata": {},
   "outputs": [
    {
     "name": "stdout",
     "output_type": "stream",
     "text": [
      "Enter a number: 25\n"
     ]
    }
   ],
   "source": [
    "\"Question:-10\"\n",
    "def check_number_odd_even(number):\n",
    "    # Convert the input to an integer\n",
    "    number = int(number)\n",
    "\n",
    "    if number % 2 == 0:\n",
    "        print(\"The number is even.\")\n",
    "    else:\n",
    "        print(\"The number is odd.\")\n",
    "# Get user input for a number\n",
    "user_input = input(\"Enter a number: \")\n",
    "# Check and display the result\n"
   ]
  },
  {
   "cell_type": "code",
   "execution_count": 39,
   "id": "6d79eed0",
   "metadata": {},
   "outputs": [
    {
     "name": "stdout",
     "output_type": "stream",
     "text": [
      "Enter the coefficient a: 5\n",
      "Enter the coefficient b: 5\n",
      "Enter the coefficient c: 4\n",
      "Root 1: (-0.5+0.7416198487095663j)\n",
      "Root 2: (-0.5-0.7416198487095663j)\n"
     ]
    }
   ],
   "source": [
    "## Intermediate Level:\n",
    "\"Question;-1\"\n",
    "a = float(input(\"Enter the coefficient a: \"))\n",
    "b = float(input(\"Enter the coefficient b: \"))\n",
    "c = float(input(\"Enter the coefficient c: \"))\n",
    "\n",
    "# Calculate the discriminant\n",
    "discriminant = b**2 - 4*a*c\n",
    "\n",
    "# Check if the discriminant is non-negative\n",
    "if discriminant >= 0:\n",
    "    # Calculate the two roots\n",
    "    root1 = (-b + (discriminant ** 0.5)) / (2*a)\n",
    "    root2 = (-b - (discriminant ** 0.5)) / (2*a)\n",
    "    print(\"Root 1:\", root1)\n",
    "    print(\"Root 2:\", root2)\n",
    "else:\n",
    "    # If discriminant is negative, roots are complex numbers\n",
    "    real_part = -b / (2*a)\n",
    "    imaginary_part = (abs(discriminant) ** 0.5) / (2*a)\n",
    "    root1 = complex(real_part, imaginary_part)\n",
    "    root2 = complex(real_part, -imaginary_part)\n",
    "    print(\"Root 1:\", root1)\n",
    "    print(\"Root 2:\", root2)\n"
   ]
  },
  {
   "cell_type": "code",
   "execution_count": null,
   "id": "57eb4dd2",
   "metadata": {},
   "outputs": [],
   "source": [
    "\"Question:-2\"\n"
   ]
  }
 ],
 "metadata": {
  "kernelspec": {
   "display_name": "Python 3 (ipykernel)",
   "language": "python",
   "name": "python3"
  },
  "language_info": {
   "codemirror_mode": {
    "name": "ipython",
    "version": 3
   },
   "file_extension": ".py",
   "mimetype": "text/x-python",
   "name": "python",
   "nbconvert_exporter": "python",
   "pygments_lexer": "ipython3",
   "version": "3.11.5"
  }
 },
 "nbformat": 4,
 "nbformat_minor": 5
}
